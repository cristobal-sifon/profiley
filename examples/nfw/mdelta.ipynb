{
 "cells": [
  {
   "cell_type": "markdown",
   "metadata": {},
   "source": [
    "# Convert to a different mass definition\n",
    "\n",
    "In this notebook we show how to convert to a different NFW mass definition using ``profiley``"
   ]
  },
  {
   "cell_type": "code",
   "execution_count": 7,
   "metadata": {},
   "outputs": [
    {
     "data": {
      "text/plain": [
       "'1.1.0b10'"
      ]
     },
     "execution_count": 7,
     "metadata": {},
     "output_type": "execute_result"
    }
   ],
   "source": [
    "%matplotlib inline\n",
    "import matplotlib.pyplot as plt\n",
    "import numpy as np\n",
    "import warnings\n",
    "\n",
    "import profiley\n",
    "from profiley.nfw import NFW\n",
    "\n",
    "profiley.__version__"
   ]
  },
  {
   "cell_type": "markdown",
   "metadata": {},
   "source": [
    "Let's define a single mass with different concentrations, to see what the latter does to the mass conversion."
   ]
  },
  {
   "cell_type": "code",
   "execution_count": 20,
   "metadata": {},
   "outputs": [],
   "source": [
    "m = 2e14\n",
    "c = np.linspace(2, 10, 8)\n",
    "z = 0.5"
   ]
  },
  {
   "cell_type": "code",
   "execution_count": 21,
   "metadata": {},
   "outputs": [],
   "source": [
    "nfw = NFW(m, c, z, overdensity=500, background='c')"
   ]
  },
  {
   "cell_type": "markdown",
   "metadata": {},
   "source": [
    "Let's get some information on our object:"
   ]
  },
  {
   "cell_type": "code",
   "execution_count": 22,
   "metadata": {},
   "outputs": [
    {
     "name": "stdout",
     "output_type": "stream",
     "text": [
      "NFW profile object containing 8 profiles. shape: (8,))\n",
      "  overdensity: 500c\n",
      "  log mass = 14.30\n",
      "  concentration range = 2.00-10.00\n",
      "  redshift = 0.50\n"
     ]
    }
   ],
   "source": [
    "print(nfw)"
   ]
  },
  {
   "cell_type": "markdown",
   "metadata": {},
   "source": [
    "We can use the ``mdelta`` method to obtain the mass given any overdensity definition:"
   ]
  },
  {
   "cell_type": "code",
   "execution_count": 23,
   "metadata": {},
   "outputs": [
    {
     "data": {
      "text/plain": [
       "((8,), (8,))"
      ]
     },
     "execution_count": 23,
     "metadata": {},
     "output_type": "execute_result"
    }
   ],
   "source": [
    "m200m, c200m = nfw.mdelta(200, background='m')\n",
    "m200m.shape, c200m.shape"
   ]
  },
  {
   "cell_type": "code",
   "execution_count": 27,
   "metadata": {},
   "outputs": [
    {
     "data": {
      "text/plain": [
       "Text(0, 0.5, '$m_\\\\mathrm{200m}/m_\\\\mathrm{500c}$')"
      ]
     },
     "execution_count": 27,
     "metadata": {},
     "output_type": "execute_result"
    },
    {
     "data": {
      "image/png": "[encoded data removed]",
      "text/plain": [
       "<Figure size 432x288 with 1 Axes>"
      ]
     },
     "metadata": {
      "needs_background": "light"
     },
     "output_type": "display_data"
    }
   ],
   "source": [
    "plt.plot(c, m200m/m)\n",
    "plt.xlabel('Concentration', fontsize=16)\n",
    "plt.ylabel('$m_\\mathrm{200m}/m_\\mathrm{500c}$', fontsize=16)"
   ]
  },
  {
   "cell_type": "markdown",
   "metadata": {},
   "source": [
    "As shown above, ``mdelta`` returns both the mass and the concentration:"
   ]
  },
  {
   "cell_type": "code",
   "execution_count": 15,
   "metadata": {},
   "outputs": [
    {
     "name": "stdout",
     "output_type": "stream",
     "text": [
      "Help on method mdelta in module profiley.nfw:\n",
      "\n",
      "mdelta(overdensity, background='c', err=0.001, n_guess_rng=1000, max_iter=50) method of profiley.nfw.NFW instance\n",
      "    Calculate mass at any overdensity from the original mass\n",
      "    definition\n",
      "    \n",
      "    Parameters\n",
      "    ----------\n",
      "    overdensity : float\n",
      "        overdensity at which the mass should be calculated\n",
      "    background : one of ('c','m'), optional\n",
      "        background density as a reference for ``overdensity``.\n",
      "        WARNING: currently only the same background as used in\n",
      "        defining this object is implemented\n",
      "    err: float, optional\n",
      "        maximum error on ``delta_c`` that can be tolerated to claim\n",
      "        convergence\n",
      "    n_guess_rng : int, optional\n",
      "        how many samples of ``c`` to obtain in each iteration. See\n",
      "        Notes below.\n",
      "    max_iter : int, optional\n",
      "        maximum number of iterations\n",
      "    \n",
      "    Returns\n",
      "    -------\n",
      "    mdelta, cdelta : ndarray, shape ``self.c.shape``\n",
      "        mass and concentrations calculated at the requested\n",
      "        overdensity\n",
      "\n"
     ]
    }
   ],
   "source": [
    "help(nfw.mdelta)"
   ]
  },
  {
   "cell_type": "markdown",
   "metadata": {},
   "source": [
    "The shapes of each output of ``mdelta`` are correspond to the shape produced by the product of ``m``, ``c``, and ``z``:"
   ]
  },
  {
   "cell_type": "code",
   "execution_count": 17,
   "metadata": {},
   "outputs": [
    {
     "data": {
      "text/plain": [
       "(3, 8)"
      ]
     },
     "execution_count": 17,
     "metadata": {},
     "output_type": "execute_result"
    }
   ],
   "source": [
    "m = np.logspace(14, 15, 3)[:,None]\n",
    "nfw = NFW(m, c, z, overdensity=500, background='c')\n",
    "m200m, c200m = nfw.mdelta(200, background='m')\n",
    "m200m.shape"
   ]
  },
  {
   "cell_type": "markdown",
   "metadata": {},
   "source": [
    "That's 3 mass elements and 8 concentration elements, as defined above."
   ]
  }
 ],
 "metadata": {
  "kernelspec": {
   "display_name": "Python [conda env:cmb]",
   "language": "python",
   "name": "conda-env-cmb-py"
  },
  "language_info": {
   "codemirror_mode": {
    "name": "ipython",
    "version": 3
   },
   "file_extension": ".py",
   "mimetype": "text/x-python",
   "name": "python",
   "nbconvert_exporter": "python",
   "pygments_lexer": "ipython3",
   "version": "3.8.3"
  }
 },
 "nbformat": 4,
 "nbformat_minor": 4
}
